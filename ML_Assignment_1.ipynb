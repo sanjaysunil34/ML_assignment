{
  "nbformat": 4,
  "nbformat_minor": 0,
  "metadata": {
    "colab": {
      "name": "Copy of NEURAL NETWORKS AND DEEP LEARNING Assignment 1.ipynb",
      "provenance": [],
      "collapsed_sections": [],
      "include_colab_link": true
    },
    "kernelspec": {
      "name": "python3",
      "display_name": "Python 3"
    },
    "language_info": {
      "name": "python"
    }
  },
  "cells": [
    {
      "cell_type": "markdown",
      "metadata": {
        "id": "view-in-github",
        "colab_type": "text"
      },
      "source": [
        "<a href=\"https://colab.research.google.com/github/sanjaysunil34/ML_assignment/blob/main/ML_Assignment_1.ipynb\" target=\"_parent\"><img src=\"https://colab.research.google.com/assets/colab-badge.svg\" alt=\"Open In Colab\"/></a>"
      ]
    },
    {
      "cell_type": "markdown",
      "source": [
        "CST 395 -CSE Neural Networks and Deep Learning Assignment 1<br>\n",
        "Submiited by: Thomas Ajai<br>\n",
        "              S5 CSE<br>\n",
        "              Roll no: 62 <br>\n",
        "              TVE19CS064<br>\n"
      ],
      "metadata": {
        "id": "po_8-VdSEiKc"
      }
    },
    {
      "cell_type": "markdown",
      "source": [
        "[github link](https://github.com/thomasajai001/Artificial-Neural-Network---Mnist-dataset)\n",
        "\n",
        "\n",
        "\n",
        "[colab link](https://colab.research.google.com/drive/10RqXk3OEPv0tlqhB-bkI1bh-iAD3eXkW)"
      ],
      "metadata": {
        "id": "BlRzcWndLkh6"
      }
    },
    {
      "cell_type": "markdown",
      "source": [
        "Importing necessary libraries"
      ],
      "metadata": {
        "id": "i-EBz1P4Es5-"
      }
    },
    {
      "cell_type": "code",
      "execution_count": 3,
      "metadata": {
        "id": "_lXwvi_TrcK1"
      },
      "outputs": [],
      "source": [
        "import numpy as np\n",
        "import matplotlib.pyplot as plt\n",
        "from keras.layers import Dense, Flatten\n",
        "from keras.models import Sequential\n",
        "from tensorflow import keras\n",
        "from tensorflow.keras.utils import to_categorical\n",
        "from tensorflow.keras.optimizers import Adam\n",
        "from keras.datasets import mnist"
      ]
    },
    {
      "cell_type": "markdown",
      "source": [
        "Loading the mnist dataset"
      ],
      "metadata": {
        "id": "uCRLtNc5Eyxo"
      }
    },
    {
      "cell_type": "code",
      "source": [
        "# Load MNIST handwritten digit data\n",
        "(X_train, y_train), (X_test, y_test) = mnist.load_data()"
      ],
      "metadata": {
        "id": "pSju9nhyrq9o"
      },
      "execution_count": 4,
      "outputs": []
    },
    {
      "cell_type": "markdown",
      "source": [
        "Size of the training dataset"
      ],
      "metadata": {
        "id": "ubiFQZ0oE23h"
      }
    },
    {
      "cell_type": "code",
      "source": [
        "print(X_train.shape)\n",
        "print(X_test.shape)"
      ],
      "metadata": {
        "colab": {
          "base_uri": "https://localhost:8080/"
        },
        "id": "8bvh34ogrrpI",
        "outputId": "9ebb797c-cd3b-4ab8-a6b1-c778cfba8253"
      },
      "execution_count": 5,
      "outputs": [
        {
          "output_type": "stream",
          "name": "stdout",
          "text": [
            "(60000, 28, 28)\n",
            "(10000, 28, 28)\n"
          ]
        }
      ]
    },
    {
      "cell_type": "markdown",
      "source": [
        "Size of the testing dataset"
      ],
      "metadata": {
        "id": "NFdmJ4nfE6vB"
      }
    },
    {
      "cell_type": "code",
      "source": [
        "print(y_train.shape)\n",
        "print(y_test.shape)"
      ],
      "metadata": {
        "colab": {
          "base_uri": "https://localhost:8080/"
        },
        "id": "V9PVPV-Trtr0",
        "outputId": "f4bd406d-e521-4fda-9590-8686386c4aa4"
      },
      "execution_count": 6,
      "outputs": [
        {
          "output_type": "stream",
          "name": "stdout",
          "text": [
            "(60000,)\n",
            "(10000,)\n"
          ]
        }
      ]
    },
    {
      "cell_type": "code",
      "source": [
        "# Display some images\n",
        "fig, axes = plt.subplots(ncols=5,nrows=2, sharex=False, \n",
        "    sharey=True, figsize=(10, 4))\n",
        "for i in range(10):\n",
        "    x=i%2\n",
        "    y=i%5\n",
        "\n",
        "    axes[x,y].set_title(y_train[i])\n",
        "    axes[x,y].imshow(X_train[i], cmap='gray')\n",
        "    axes[x,y].get_xaxis().set_visible(False)\n",
        "    axes[x,y].get_yaxis().set_visible(False)\n",
        "plt.show()"
      ],
      "metadata": {
        "colab": {
          "base_uri": "https://localhost:8080/",
          "height": 265
        },
        "id": "MrVJA2Q_rvNd",
        "outputId": "4247479c-3d88-4c08-9467-dd7a5a3dcc52"
      },
      "execution_count": 7,
      "outputs": [
        {
          "output_type": "display_data",
          "data": {
            "image/png": "[encoded data removed]",
            "text/plain": [
              "<Figure size 720x288 with 10 Axes>"
            ]
          },
          "metadata": {
            "needs_background": "light"
          }
        }
      ]
    },
    {
      "cell_type": "code",
      "source": [
        "# Convert y_train into one-hot format\n",
        "temp = []\n",
        "for i in range(len(y_train)):\n",
        "    temp.append(to_categorical(y_train[i], num_classes=10))\n",
        "y_train = np.array(temp)\n",
        "# Convert y_test into one-hot format\n",
        "temp = []\n",
        "for i in range(len(y_test)):    \n",
        "    temp.append(to_categorical(y_test[i], num_classes=10))\n",
        "y_test = np.array(temp)"
      ],
      "metadata": {
        "id": "V9NQ7PaQtMnd"
      },
      "execution_count": 8,
      "outputs": []
    },
    {
      "cell_type": "markdown",
      "source": [
        "### 1st Model"
      ],
      "metadata": {
        "id": "khy71kDuFB4A"
      }
    },
    {
      "cell_type": "code",
      "source": [
        "# Create simple Neural Network model\n",
        "def model_1():\n",
        "  model = Sequential()\n",
        "  model.add(Flatten(input_shape=(28,28)))\n",
        "  model.add(Dense(80, activation='relu'))\n",
        "  model.add(Dense(10, activation='softmax'))\n",
        "  opt = Adam(learning_rate=0.01)\n",
        "\n",
        "  # model.summary()\n",
        "\n",
        "  model.compile(loss='categorical_crossentropy', \n",
        "                optimizer='adam',\n",
        "                metrics=['acc'])\n",
        "  return model"
      ],
      "metadata": {
        "id": "YO1HJ89etVJf"
      },
      "execution_count": 9,
      "outputs": []
    },
    {
      "cell_type": "code",
      "source": [
        "# evaluate a model using k-fold cross-validation\n",
        "def evaluate_model(modelX):\n",
        "    scores = list()\n",
        "    # define model\n",
        "    model = modelX()\n",
        "    print(model.summary())\n",
        "    # fit model\n",
        "    history = model.fit(X_train, y_train, epochs=10, batch_size=32, validation_data=(X_test, y_test), verbose=1)\n",
        "    # evaluate model\n",
        "    _, acc = model.evaluate(X_test, y_test, verbose=1)\n",
        "    print('Validation Accuarcy %.3f' % (acc * 100.0))\n",
        "    # stores scores\n",
        "    scores.append(acc)\n",
        "    return scores, history"
      ],
      "metadata": {
        "id": "h9-QFlOjl-oN"
      },
      "execution_count": 10,
      "outputs": []
    },
    {
      "cell_type": "code",
      "source": [
        "# summarize history for accuracy\n",
        "def plot(history):\n",
        "  plt.plot(history.history['acc'])\n",
        "  plt.plot(history.history['val_acc'])\n",
        "  plt.title('model accuracy')\n",
        "  plt.ylabel('accuracy')\n",
        "  plt.xlabel('epoch')\n",
        "  plt.legend(['train', 'test'], loc='upper left')\n",
        "  plt.show()"
      ],
      "metadata": {
        "id": "lO37eicQtf98"
      },
      "execution_count": 11,
      "outputs": []
    },
    {
      "cell_type": "markdown",
      "source": [
        "Evaluating the 1st model"
      ],
      "metadata": {
        "id": "YBr3VgJ-FLOX"
      }
    },
    {
      "cell_type": "code",
      "source": [
        "scores, history = evaluate_model(model_1)"
      ],
      "metadata": {
        "colab": {
          "base_uri": "https://localhost:8080/"
        },
        "id": "xFpqzyqP5qXL",
        "outputId": "1bca7e87-ad61-4364-d604-6df6c44ec9b9"
      },
      "execution_count": 13,
      "outputs": [
        {
          "output_type": "stream",
          "name": "stdout",
          "text": [
            "Model: \"sequential\"\n",
            "_________________________________________________________________\n",
            " Layer (type)                Output Shape              Param #   \n",
            "=================================================================\n",
            " flatten (Flatten)           (None, 784)               0         \n",
            "                                                                 \n",
            " dense (Dense)               (None, 80)                62800     \n",
            "                                                                 \n",
            " dense_1 (Dense)             (None, 10)                810       \n",
            "                                                                 \n",
            "=================================================================\n",
            "Total params: 63,610\n",
            "Trainable params: 63,610\n",
            "Non-trainable params: 0\n",
            "_________________________________________________________________\n",
            "None\n",
            "Epoch 1/10\n",
            "1875/1875 [==============================] - 8s 4ms/step - loss: 2.3236 - acc: 0.8136 - val_loss: 0.5284 - val_acc: 0.8731\n",
            "Epoch 2/10\n",
            "1875/1875 [==============================] - 4s 2ms/step - loss: 0.4340 - acc: 0.8929 - val_loss: 0.3854 - val_acc: 0.9022\n",
            "Epoch 3/10\n",
            "1875/1875 [==============================] - 4s 2ms/step - loss: 0.3182 - acc: 0.9190 - val_loss: 0.3004 - val_acc: 0.9260\n",
            "Epoch 4/10\n",
            "1875/1875 [==============================] - 5s 2ms/step - loss: 0.2648 - acc: 0.9301 - val_loss: 0.2545 - val_acc: 0.9382\n",
            "Epoch 5/10\n",
            "1875/1875 [==============================] - 4s 2ms/step - loss: 0.2437 - acc: 0.9368 - val_loss: 0.2823 - val_acc: 0.9284\n",
            "Epoch 6/10\n",
            "1875/1875 [==============================] - 4s 2ms/step - loss: 0.2278 - acc: 0.9410 - val_loss: 0.2536 - val_acc: 0.9364\n",
            "Epoch 7/10\n",
            "1875/1875 [==============================] - 5s 2ms/step - loss: 0.2223 - acc: 0.9433 - val_loss: 0.2794 - val_acc: 0.9402\n",
            "Epoch 8/10\n",
            "1875/1875 [==============================] - 5s 2ms/step - loss: 0.2142 - acc: 0.9458 - val_loss: 0.2734 - val_acc: 0.9329\n",
            "Epoch 9/10\n",
            "1875/1875 [==============================] - 4s 2ms/step - loss: 0.2020 - acc: 0.9478 - val_loss: 0.3120 - val_acc: 0.9385\n",
            "Epoch 10/10\n",
            "1875/1875 [==============================] - 5s 2ms/step - loss: 0.2082 - acc: 0.9485 - val_loss: 0.2611 - val_acc: 0.9451\n",
            "313/313 [==============================] - 1s 2ms/step - loss: 0.2611 - acc: 0.9451\n",
            "Validation Accuarcy 94.510\n"
          ]
        }
      ]
    },
    {
      "cell_type": "markdown",
      "source": [
        "#### Plot Accuracy vs Epoch chart for Model 1"
      ],
      "metadata": {
        "id": "P41WfJicFcp6"
      }
    },
    {
      "cell_type": "code",
      "source": [
        "plot(history)"
      ],
      "metadata": {
        "id": "HV5VrXT2tada",
        "colab": {
          "base_uri": "https://localhost:8080/",
          "height": 295
        },
        "outputId": "672b5ffb-27dc-42c8-a91b-f1744ef449b2"
      },
      "execution_count": 14,
      "outputs": [
        {
          "output_type": "display_data",
          "data": {
            "image/png": "[encoded data removed]",
            "text/plain": [
              "<Figure size 432x288 with 1 Axes>"
            ]
          },
          "metadata": {
            "needs_background": "light"
          }
        }
      ]
    },
    {
      "cell_type": "markdown",
      "source": [
        "### 2nd Model"
      ],
      "metadata": {
        "id": "l3j1c0evFQgM"
      }
    },
    {
      "cell_type": "code",
      "source": [
        "# Create simple Neural Network model\n",
        "def model_2():\n",
        "  model = Sequential()\n",
        "  model.add(Flatten(input_shape=(28,28)))\n",
        "  model.add(Dense(50, activation='relu'))\n",
        "  model.add(Dense(128, activation='sigmoid'))\n",
        "  model.add(Dense(10, activation='softmax'))\n",
        "  opt = Adam(learning_rate=0.01)\n",
        "\n",
        "  # model.summary()\n",
        "\n",
        "  model.compile(loss='categorical_crossentropy', \n",
        "                optimizer='adam',\n",
        "                metrics=['acc'])\n",
        "  return model"
      ],
      "metadata": {
        "id": "pORYBwpV9Eyb"
      },
      "execution_count": 15,
      "outputs": []
    },
    {
      "cell_type": "code",
      "source": [
        "scores, history = evaluate_model(model_2)"
      ],
      "metadata": {
        "colab": {
          "base_uri": "https://localhost:8080/"
        },
        "id": "4dfrkKpW9E0p",
        "outputId": "304c8634-b3bd-4113-c80e-f74ef1db4012"
      },
      "execution_count": 16,
      "outputs": [
        {
          "output_type": "stream",
          "name": "stdout",
          "text": [
            "Model: \"sequential_1\"\n",
            "_________________________________________________________________\n",
            " Layer (type)                Output Shape              Param #   \n",
            "=================================================================\n",
            " flatten_1 (Flatten)         (None, 784)               0         \n",
            "                                                                 \n",
            " dense_2 (Dense)             (None, 50)                39250     \n",
            "                                                                 \n",
            " dense_3 (Dense)             (None, 128)               6528      \n",
            "                                                                 \n",
            " dense_4 (Dense)             (None, 10)                1290      \n",
            "                                                                 \n",
            "=================================================================\n",
            "Total params: 47,068\n",
            "Trainable params: 47,068\n",
            "Non-trainable params: 0\n",
            "_________________________________________________________________\n",
            "None\n",
            "Epoch 1/10\n",
            "1875/1875 [==============================] - 5s 3ms/step - loss: 0.4484 - acc: 0.8715 - val_loss: 0.2697 - val_acc: 0.9145\n",
            "Epoch 2/10\n",
            "1875/1875 [==============================] - 5s 2ms/step - loss: 0.2370 - acc: 0.9297 - val_loss: 0.2111 - val_acc: 0.9374\n",
            "Epoch 3/10\n",
            "1875/1875 [==============================] - 4s 2ms/step - loss: 0.2062 - acc: 0.9389 - val_loss: 0.2049 - val_acc: 0.9367\n",
            "Epoch 4/10\n",
            "1875/1875 [==============================] - 4s 2ms/step - loss: 0.1920 - acc: 0.9424 - val_loss: 0.2055 - val_acc: 0.9415\n",
            "Epoch 5/10\n",
            "1875/1875 [==============================] - 4s 2ms/step - loss: 0.1858 - acc: 0.9440 - val_loss: 0.1884 - val_acc: 0.9424\n",
            "Epoch 6/10\n",
            "1875/1875 [==============================] - 5s 2ms/step - loss: 0.1690 - acc: 0.9487 - val_loss: 0.1674 - val_acc: 0.9475\n",
            "Epoch 7/10\n",
            "1875/1875 [==============================] - 5s 2ms/step - loss: 0.1710 - acc: 0.9480 - val_loss: 0.1675 - val_acc: 0.9506\n",
            "Epoch 8/10\n",
            "1875/1875 [==============================] - 4s 2ms/step - loss: 0.1686 - acc: 0.9489 - val_loss: 0.1726 - val_acc: 0.9467\n",
            "Epoch 9/10\n",
            "1875/1875 [==============================] - 4s 2ms/step - loss: 0.1650 - acc: 0.9500 - val_loss: 0.1820 - val_acc: 0.9454\n",
            "Epoch 10/10\n",
            "1875/1875 [==============================] - 5s 2ms/step - loss: 0.1656 - acc: 0.9497 - val_loss: 0.1689 - val_acc: 0.9487\n",
            "313/313 [==============================] - 0s 2ms/step - loss: 0.1689 - acc: 0.9487\n",
            "Validation Accuarcy 94.870\n"
          ]
        }
      ]
    },
    {
      "cell_type": "markdown",
      "source": [
        "#### Plot Accuracy vs Epoch chart for Model 2"
      ],
      "metadata": {
        "id": "ZDPnnb51FZ_6"
      }
    },
    {
      "cell_type": "code",
      "source": [
        "plot(history)"
      ],
      "metadata": {
        "colab": {
          "base_uri": "https://localhost:8080/",
          "height": 295
        },
        "id": "-FVgbYWj9E28",
        "outputId": "c0955e65-eeb2-4c93-c957-e3f54427b076"
      },
      "execution_count": 17,
      "outputs": [
        {
          "output_type": "display_data",
          "data": {
            "image/png": "[encoded data removed]",
            "text/plain": [
              "<Figure size 432x288 with 1 Axes>"
            ]
          },
          "metadata": {
            "needs_background": "light"
          }
        }
      ]
    }
  ]
}